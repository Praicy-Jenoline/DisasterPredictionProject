{
 "cells": [
  {
   "cell_type": "code",
   "execution_count": 3,
   "id": "6287bf59-989e-4dc8-bde6-46459eb895fd",
   "metadata": {},
   "outputs": [
    {
     "ename": "NameError",
     "evalue": "name '__file__' is not defined",
     "output_type": "error",
     "traceback": [
      "\u001b[1;31m---------------------------------------------------------------------------\u001b[0m",
      "\u001b[1;31mNameError\u001b[0m                                 Traceback (most recent call last)",
      "Cell \u001b[1;32mIn[3], line 5\u001b[0m\n\u001b[0;32m      2\u001b[0m \u001b[38;5;28;01mimport\u001b[39;00m \u001b[38;5;21;01mpandas\u001b[39;00m \u001b[38;5;28;01mas\u001b[39;00m \u001b[38;5;21;01mpd\u001b[39;00m\n\u001b[0;32m      4\u001b[0m \u001b[38;5;66;03m# Dynamic path handling\u001b[39;00m\n\u001b[1;32m----> 5\u001b[0m BASE_DIR \u001b[38;5;241m=\u001b[39m os\u001b[38;5;241m.\u001b[39mpath\u001b[38;5;241m.\u001b[39mdirname(os\u001b[38;5;241m.\u001b[39mpath\u001b[38;5;241m.\u001b[39mdirname(os\u001b[38;5;241m.\u001b[39mpath\u001b[38;5;241m.\u001b[39mabspath(\u001b[38;5;18m__file__\u001b[39m)))\n\u001b[0;32m      6\u001b[0m DATA_PATH \u001b[38;5;241m=\u001b[39m os\u001b[38;5;241m.\u001b[39mpath\u001b[38;5;241m.\u001b[39mjoin(BASE_DIR, \u001b[38;5;124m\"\u001b[39m\u001b[38;5;124mdata\u001b[39m\u001b[38;5;124m\"\u001b[39m, \u001b[38;5;124m\"\u001b[39m\u001b[38;5;124mprocessed\u001b[39m\u001b[38;5;124m\"\u001b[39m, \u001b[38;5;124m\"\u001b[39m\u001b[38;5;124mcombined_disaster_data.csv\u001b[39m\u001b[38;5;124m\"\u001b[39m)\n\u001b[0;32m      7\u001b[0m OUTPUT_PATH \u001b[38;5;241m=\u001b[39m os\u001b[38;5;241m.\u001b[39mpath\u001b[38;5;241m.\u001b[39mjoin(BASE_DIR, \u001b[38;5;124m\"\u001b[39m\u001b[38;5;124mdata\u001b[39m\u001b[38;5;124m\"\u001b[39m, \u001b[38;5;124m\"\u001b[39m\u001b[38;5;124mprocessed\u001b[39m\u001b[38;5;124m\"\u001b[39m, \u001b[38;5;124m\"\u001b[39m\u001b[38;5;124mcleaned_disaster_data.csv\u001b[39m\u001b[38;5;124m\"\u001b[39m)\n",
      "\u001b[1;31mNameError\u001b[0m: name '__file__' is not defined"
     ]
    }
   ],
   "source": [
    "import os\n",
    "import pandas as pd\n",
    "\n",
    "# Dynamic path handling\n",
    "BASE_DIR = os.path.dirname(os.path.dirname(os.path.abspath(__file__)))\n",
    "DATA_PATH = os.path.join(BASE_DIR, \"data\", \"processed\", \"combined_disaster_data.csv\")\n",
    "OUTPUT_PATH = os.path.join(BASE_DIR, \"data\", \"processed\", \"cleaned_disaster_data.csv\")\n",
    "\n",
    "# Load dataset\n",
    "print(f\"Loading dataset from: {DATA_PATH}\")\n",
    "df = pd.read_csv(DATA_PATH)\n",
    "\n",
    "# -------------------------------\n",
    "# 1. Create binary disaster columns\n",
    "# -------------------------------\n",
    "\n",
    "# Flood -> based on \"disaster_type\" column\n",
    "df['is_flood'] = df['disaster_type'].apply(lambda x: 1 if str(x).lower() == \"flood\" else 0)\n",
    "\n",
    "# Landslide -> assuming column 'landslide' exists with \"Yes\"/\"No\"\n",
    "if 'landslide' in df.columns:\n",
    "    df['is_landslide'] = df['landslide'].apply(lambda x: 1 if str(x).lower() == \"yes\" else 0)\n",
    "else:\n",
    "    df['is_landslide'] = 0  # default if not present\n",
    "\n",
    "# Earthquake -> assuming column 'earthquake' exists with \"Yes\"/\"No\"\n",
    "if 'earthquake' in df.columns:\n",
    "    df['is_earthquake'] = df['earthquake'].apply(lambda x: 1 if str(x).lower() == \"yes\" else 0)\n",
    "else:\n",
    "    df['is_earthquake'] = 0\n",
    "\n",
    "# Cyclone -> no direct column, so infer from windspeed & pressure\n",
    "if 'windspeed' in df.columns and 'pressure' in df.columns:\n",
    "    df['is_cyclone'] = df.apply(\n",
    "        lambda row: 1 if (row['windspeed'] >= 120 and row['pressure'] < 990) else 0,\n",
    "        axis=1\n",
    "    )\n",
    "else:\n",
    "    df['is_cyclone'] = 0\n",
    "\n",
    "# -------------------------------\n",
    "# 2. Clean and preprocess\n",
    "# -------------------------------\n",
    "\n",
    "# Drop duplicates\n",
    "df = df.drop_duplicates()\n",
    "\n",
    "# Fill missing numeric values with column mean\n",
    "for col in df.select_dtypes(include=['float64', 'int64']).columns:\n",
    "    df[col] = df[col].fillna(df[col].mean())\n",
    "\n",
    "# Fill missing categorical values with mode\n",
    "for col in df.select_dtypes(include=['object']).columns:\n",
    "    df[col] = df[col].fillna(df[col].mode()[0])\n",
    "\n",
    "# -------------------------------\n",
    "# 3. Save cleaned dataset\n",
    "# -------------------------------\n",
    "df.to_csv(OUTPUT_PATH, index=False)\n",
    "print(f\"Cleaned dataset saved to: {OUTPUT_PATH}\")\n",
    "\n",
    "print(\"Preview of cleaned dataset:\")\n",
    "print(df.head())\n"
   ]
  },
  {
   "cell_type": "code",
   "execution_count": null,
   "id": "bdf6aced-ade9-44ba-b89b-63435f2fcb1b",
   "metadata": {},
   "outputs": [],
   "source": []
  }
 ],
 "metadata": {
  "kernelspec": {
   "display_name": "Python 3 (ipykernel)",
   "language": "python",
   "name": "python3"
  },
  "language_info": {
   "codemirror_mode": {
    "name": "ipython",
    "version": 3
   },
   "file_extension": ".py",
   "mimetype": "text/x-python",
   "name": "python",
   "nbconvert_exporter": "python",
   "pygments_lexer": "ipython3",
   "version": "3.12.7"
  }
 },
 "nbformat": 4,
 "nbformat_minor": 5
}
