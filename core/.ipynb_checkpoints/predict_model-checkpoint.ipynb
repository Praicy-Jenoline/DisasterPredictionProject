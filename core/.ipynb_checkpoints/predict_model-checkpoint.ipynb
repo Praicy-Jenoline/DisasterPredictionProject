{
 "cells": [
  {
   "cell_type": "code",
   "execution_count": null,
   "id": "3091f90d-cd6b-42b9-b3d5-be6be96388e0",
   "metadata": {},
   "outputs": [],
   "source": [
    "# core/predict_model.py\n",
    "import joblib\n",
    "import numpy as np\n",
    "import os\n",
    "\n",
    "# Load the trained model\n",
    "MODEL_PATH = os.path.join(\"models\", \"xgb_disaster_model.joblib\")\n",
    "\n",
    "try:\n",
    "    model = joblib.load(MODEL_PATH)\n",
    "    print(\"[✅] Model loaded successfully.\")\n",
    "except FileNotFoundError:\n",
    "    print(\"[❌] Trained model not found at:\", MODEL_PATH)\n",
    "    model = None\n",
    "\n",
    "# Define the list of features (must match training)\n",
    "FEATURES = [\n",
    "    'humidity', 'rainfall_mm', 'soil_saturation', 'vegetation_cover',\n",
    "    'earthquake_activity', 'proximity_to_water', 'soil_type_gravel',\n",
    "    'soil_type_sand', 'soil_type_silt', 'sea_surface_temperature',\n",
    "    'atmospheric_pressure', 'wind_shear', 'vorticity', 'latitude',\n",
    "    'ocean_depth', 'proximity_to_coastline', 'pre_existing_disturbance',\n",
    "    'slope_angle', 'longitude', 'depth', 'magnitude'\n",
    "]\n",
    "\n",
    "def predict_disaster(input_data: dict):\n",
    "    if not model:\n",
    "        return \"Model not available.\"\n",
    "\n",
    "    try:\n",
    "        # Fill missing values with 0\n",
    "        input_features = [input_data.get(feat, 0) for feat in FEATURES]\n",
    "        input_array = np.array(input_features).reshape(1, -1)\n",
    "\n",
    "        prediction = model.predict(input_array)[0]\n",
    "        return prediction\n",
    "\n",
    "    except Exception as e:\n",
    "        print(\"[❌] Prediction failed:\", str(e))\n",
    "        return \"Error\"\n"
   ]
  }
 ],
 "metadata": {
  "kernelspec": {
   "display_name": "Python 3 (ipykernel)",
   "language": "python",
   "name": "python3"
  },
  "language_info": {
   "codemirror_mode": {
    "name": "ipython",
    "version": 3
   },
   "file_extension": ".py",
   "mimetype": "text/x-python",
   "name": "python",
   "nbconvert_exporter": "python",
   "pygments_lexer": "ipython3",
   "version": "3.12.7"
  }
 },
 "nbformat": 4,
 "nbformat_minor": 5
}
