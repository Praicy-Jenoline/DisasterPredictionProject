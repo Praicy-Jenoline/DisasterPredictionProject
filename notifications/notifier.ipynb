{
 "cells": [
  {
   "cell_type": "code",
   "execution_count": null,
   "id": "8523b85e-a87d-496e-ac64-2d3c4466c427",
   "metadata": {},
   "outputs": [],
   "source": [
    "# notifications/notifier.py\n",
    "from plyer import notification\n",
    "\n",
    "def send_alert(message):\n",
    "    try:\n",
    "        notification.notify(\n",
    "            title=\"🚨 Disaster Alert!\",\n",
    "            message=message,\n",
    "            timeout=10,  # seconds\n",
    "            app_name=\"Disaster Predictor\"\n",
    "        )\n",
    "        print(\"[📢] Notification sent.\")\n",
    "    except Exception as e:\n",
    "        print(f\"[❌] Failed to send notification: {e}\")\n"
   ]
  }
 ],
 "metadata": {
  "kernelspec": {
   "display_name": "Python 3 (ipykernel)",
   "language": "python",
   "name": "python3"
  },
  "language_info": {
   "codemirror_mode": {
    "name": "ipython",
    "version": 3
   },
   "file_extension": ".py",
   "mimetype": "text/x-python",
   "name": "python",
   "nbconvert_exporter": "python",
   "pygments_lexer": "ipython3",
   "version": "3.12.7"
  }
 },
 "nbformat": 4,
 "nbformat_minor": 5
}
