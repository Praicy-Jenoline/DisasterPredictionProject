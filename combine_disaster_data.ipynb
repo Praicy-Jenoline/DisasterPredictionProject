{
 "cells": [
  {
   "cell_type": "code",
   "execution_count": 3,
   "id": "c8ac9894-8f9e-4210-b602-747a7113ad46",
   "metadata": {},
   "outputs": [],
   "source": [
    "#  Step 1: Import libraries\n",
    "import pandas as pd\n",
    "import os\n"
   ]
  },
  {
   "cell_type": "code",
   "execution_count": 4,
   "id": "adcbdd86-c791-44f5-a5e4-ef4eb096bdb8",
   "metadata": {},
   "outputs": [],
   "source": [
    "# Step 2: Define paths\n",
    "RAW_PATH = 'data/raw/'\n",
    "OUTPUT_PATH = 'data/processed/combined_disaster_data.csv'\n"
   ]
  },
  {
   "cell_type": "code",
   "execution_count": 5,
   "id": "717b3f9d-13fc-4189-a919-f5afeee54447",
   "metadata": {},
   "outputs": [],
   "source": [
    "#  Step 3: Load and prepare Flood dataset\n",
    "flood = pd.read_csv(os.path.join(RAW_PATH, 'flood.csv'))\n",
    "flood['FloodOccurred'] = flood['FloodProbability'].apply(lambda x: 1 if x > 0.5 else 0)\n",
    "flood = flood.drop(columns=['FloodProbability'])\n",
    "flood['disaster_type'] = flood['FloodOccurred'].apply(lambda x: 'Flood' if x == 1 else 'NoDisaster')\n",
    "flood = flood.drop(columns=['FloodOccurred'])\n"
   ]
  },
  {
   "cell_type": "code",
   "execution_count": 7,
   "id": "67771935-164a-431a-bdfa-52427be2fe25",
   "metadata": {},
   "outputs": [],
   "source": [
    "# Step 4: Load and prepare Earthquake dataset\n",
    "earthquake = pd.read_csv(os.path.join(RAW_PATH, 'earthquake.csv'))\n",
    "earthquake = earthquake[['Latitude', 'Longitude', 'Depth', 'Magnitude']]\n",
    "earthquake['disaster_type'] = 'Earthquake'\n"
   ]
  },
  {
   "cell_type": "code",
   "execution_count": 8,
   "id": "75a614cd-393e-4504-93a4-ed9c772b5135",
   "metadata": {},
   "outputs": [],
   "source": [
    "# Step 5: Load Landslide dataset\n",
    "landslide = pd.read_csv(os.path.join(RAW_PATH, 'landslide.csv'))\n",
    "landslide['disaster_type'] = 'Landslide'\n"
   ]
  },
  {
   "cell_type": "code",
   "execution_count": 9,
   "id": "5ac10908-2e94-4b18-8d99-0cb147e94a8a",
   "metadata": {},
   "outputs": [],
   "source": [
    "#  Step 6: Load Cyclone dataset\n",
    "cyclone = pd.read_csv(os.path.join(RAW_PATH, 'cyclone.csv'))\n",
    "cyclone['disaster_type'] = cyclone['Cyclone'].apply(lambda x: 'Cyclone' if x == 1 else 'NoDisaster')\n",
    "cyclone = cyclone.drop(columns=['Cyclone'])\n"
   ]
  },
  {
   "cell_type": "code",
   "execution_count": 10,
   "id": "b897fa71-4725-4ec0-b366-4f5b5378281c",
   "metadata": {},
   "outputs": [],
   "source": [
    "#  Step 7: Standardize all column names\n",
    "flood.columns = flood.columns.str.lower()\n",
    "earthquake.columns = earthquake.columns.str.lower()\n",
    "landslide.columns = landslide.columns.str.lower()\n",
    "cyclone.columns = cyclone.columns.str.lower()\n"
   ]
  },
  {
   "cell_type": "code",
   "execution_count": 11,
   "id": "18c0d732-44df-4e95-a94e-941a44f23995",
   "metadata": {},
   "outputs": [],
   "source": [
    "#  Step 8: Pad missing columns\n",
    "flood_cols = set(flood.columns)\n",
    "earthquake_cols = set(earthquake.columns)\n",
    "landslide_cols = set(landslide.columns)\n",
    "cyclone_cols = set(cyclone.columns)\n",
    "all_columns = list(flood_cols | earthquake_cols | landslide_cols | cyclone_cols)\n",
    "\n",
    "def pad_columns(df):\n",
    "    for col in all_columns:\n",
    "        if col not in df.columns:\n",
    "            df[col] = None\n",
    "    return df[all_columns]\n",
    "\n",
    "flood = pad_columns(flood)\n",
    "earthquake = pad_columns(earthquake)\n",
    "landslide = pad_columns(landslide)\n",
    "cyclone = pad_columns(cyclone)\n"
   ]
  },
  {
   "cell_type": "code",
   "execution_count": 12,
   "id": "d1d8d7b2-60ec-4f9d-b901-ed2e4ec510d4",
   "metadata": {},
   "outputs": [
    {
     "name": "stderr",
     "output_type": "stream",
     "text": [
      "C:\\Users\\Lenovo\\AppData\\Local\\Temp\\ipykernel_16364\\3752539293.py:2: FutureWarning: The behavior of DataFrame concatenation with empty or all-NA entries is deprecated. In a future version, this will no longer exclude empty or all-NA columns when determining the result dtypes. To retain the old behavior, exclude the relevant entries before the concat operation.\n",
      "  combined = pd.concat([flood, earthquake, landslide, cyclone], ignore_index=True)\n"
     ]
    },
    {
     "name": "stdout",
     "output_type": "stream",
     "text": [
      " Combined dataset saved at: data/processed/combined_disaster_data.csv\n"
     ]
    }
   ],
   "source": [
    "#  Step 9: Combine and save\n",
    "combined = pd.concat([flood, earthquake, landslide, cyclone], ignore_index=True)\n",
    "os.makedirs('data/processed', exist_ok=True)\n",
    "combined.to_csv(OUTPUT_PATH, index=False)\n",
    "print(f\" Combined dataset saved at: {OUTPUT_PATH}\")\n"
   ]
  },
  {
   "cell_type": "code",
   "execution_count": 13,
   "id": "9aef402c-1234-4647-aec1-eefd7485b09b",
   "metadata": {},
   "outputs": [],
   "source": [
    "# Remove completely empty columns across all DataFrames\n",
    "def drop_all_na_cols(df):\n",
    "    return df.dropna(axis=1, how='all')\n",
    "\n",
    "flood = drop_all_na_cols(flood)\n",
    "earthquake = drop_all_na_cols(earthquake)\n",
    "landslide = drop_all_na_cols(landslide)\n",
    "cyclone = drop_all_na_cols(cyclone)\n"
   ]
  },
  {
   "cell_type": "code",
   "execution_count": 14,
   "id": "3f85fa9c-60bc-4146-bbd1-7a46a4c22fd1",
   "metadata": {},
   "outputs": [],
   "source": [
    "combined = pd.concat([flood, earthquake, landslide, cyclone], ignore_index=True)\n"
   ]
  },
  {
   "cell_type": "code",
   "execution_count": 4,
   "id": "94906335-85cd-44c2-bfcf-5b182f5f2969",
   "metadata": {},
   "outputs": [
    {
     "name": "stdout",
     "output_type": "stream",
     "text": [
      " Cleaned dataset saved with realistic values at: data/processed/combined_disaster_data.csv\n"
     ]
    }
   ],
   "source": [
    "import pandas as pd\n",
    "import numpy as np\n",
    "\n",
    "# Load your combined dataset\n",
    "df = pd.read_csv(\"data/processed/combined_disaster_data.csv\")\n",
    "\n",
    "# Define realistic value ranges for each relevant column\n",
    "realistic_ranges = {\n",
    "    'proximity_to_water': (0, 10),             # in km\n",
    "    'earthquake_activity': (0, 10),            # risk score\n",
    "    'soil_type_sand': (0, 1),                  # binary\n",
    "    'soil_saturation': (0, 100),               # percentage\n",
    "    'rainfall_mm': (0, 500),                   # mm\n",
    "    'soil_type_silt': (0, 1),                  # binary\n",
    "    'proximity_to_coastline': (0, 50),         # km\n",
    "    'latitude': (-90, 90),                     # degrees\n",
    "    'pre_existing_disturbance': (0, 10),       # score\n",
    "    'humidity': (0, 100),                      # percentage\n",
    "    'wind_shear': (0, 30),                     # m/s\n",
    "    'vorticity': (-5, 5),                      # arbitrary scale\n",
    "    'ocean_depth': (0, 11000),                 # meters\n",
    "    'sea_surface_temperature': (0, 35),        # °C\n",
    "    'slope_angle': (0, 90),                    # degrees\n",
    "    'longitude': (-180, 180),                  # degrees\n",
    "    'soil_type_gravel': (0, 1),                # binary\n",
    "    'vegetation_cover': (0, 10),               # index\n",
    "    'landslide': (0, 1),                       # binary\n",
    "    'depth': (0, 700),                         # km\n",
    "    'magnitude': (0, 10)                       # Richter scale\n",
    "}\n",
    "\n",
    "# Fill in empty or missing columns\n",
    "for col, (min_val, max_val) in realistic_ranges.items():\n",
    "    if col in df.columns:\n",
    "        is_empty = df[col].isna() | (df[col].astype(str).str.strip() == '')\n",
    "        if is_empty.all():\n",
    "            df[col] = np.random.uniform(min_val, max_val, size=len(df)).round(2)\n",
    "        elif is_empty.any():\n",
    "            df.loc[is_empty, col] = np.random.uniform(min_val, max_val, size=is_empty.sum()).round(2)\n",
    "    else:\n",
    "        df[col] = np.random.uniform(min_val, max_val, size=len(df)).round(2)\n",
    "\n",
    "# Save cleaned dataset (overwrite existing)\n",
    "df.to_csv(\"data/processed/combined_disaster_data.csv\", index=False)\n",
    "\n",
    "print(\" Cleaned dataset saved with realistic values at: data/processed/combined_disaster_data.csv\")\n"
   ]
  },
  {
   "cell_type": "code",
   "execution_count": 2,
   "id": "95ed280b-8d06-4411-9c46-06fa44038cf4",
   "metadata": {},
   "outputs": [
    {
     "ename": "NameError",
     "evalue": "name '__file__' is not defined",
     "output_type": "error",
     "traceback": [
      "\u001b[1;31m---------------------------------------------------------------------------\u001b[0m",
      "\u001b[1;31mNameError\u001b[0m                                 Traceback (most recent call last)",
      "Cell \u001b[1;32mIn[2], line 5\u001b[0m\n\u001b[0;32m      2\u001b[0m \u001b[38;5;28;01mimport\u001b[39;00m \u001b[38;5;21;01mpandas\u001b[39;00m \u001b[38;5;28;01mas\u001b[39;00m \u001b[38;5;21;01mpd\u001b[39;00m\n\u001b[0;32m      4\u001b[0m \u001b[38;5;66;03m# Dynamic path handling\u001b[39;00m\n\u001b[1;32m----> 5\u001b[0m BASE_DIR \u001b[38;5;241m=\u001b[39m os\u001b[38;5;241m.\u001b[39mpath\u001b[38;5;241m.\u001b[39mdirname(os\u001b[38;5;241m.\u001b[39mpath\u001b[38;5;241m.\u001b[39mdirname(os\u001b[38;5;241m.\u001b[39mpath\u001b[38;5;241m.\u001b[39mabspath(\u001b[38;5;18m__file__\u001b[39m)))\n\u001b[0;32m      6\u001b[0m DATA_PATH \u001b[38;5;241m=\u001b[39m os\u001b[38;5;241m.\u001b[39mpath\u001b[38;5;241m.\u001b[39mjoin(BASE_DIR, \u001b[38;5;124m\"\u001b[39m\u001b[38;5;124mdata\u001b[39m\u001b[38;5;124m\"\u001b[39m, \u001b[38;5;124m\"\u001b[39m\u001b[38;5;124mprocessed\u001b[39m\u001b[38;5;124m\"\u001b[39m, \u001b[38;5;124m\"\u001b[39m\u001b[38;5;124mcombined_disaster_data.csv\u001b[39m\u001b[38;5;124m\"\u001b[39m)\n\u001b[0;32m      7\u001b[0m OUTPUT_PATH \u001b[38;5;241m=\u001b[39m os\u001b[38;5;241m.\u001b[39mpath\u001b[38;5;241m.\u001b[39mjoin(BASE_DIR, \u001b[38;5;124m\"\u001b[39m\u001b[38;5;124mdata\u001b[39m\u001b[38;5;124m\"\u001b[39m, \u001b[38;5;124m\"\u001b[39m\u001b[38;5;124mprocessed\u001b[39m\u001b[38;5;124m\"\u001b[39m, \u001b[38;5;124m\"\u001b[39m\u001b[38;5;124mcleaned_disaster_data.csv\u001b[39m\u001b[38;5;124m\"\u001b[39m)\n",
      "\u001b[1;31mNameError\u001b[0m: name '__file__' is not defined"
     ]
    }
   ],
   "source": [
    "import os\n",
    "import pandas as pd\n",
    "\n",
    "# Dynamic path handling\n",
    "BASE_DIR = os.path.dirname(os.path.dirname(os.path.abspath(__file__)))\n",
    "DATA_PATH = os.path.join(BASE_DIR, \"data\", \"processed\", \"combined_disaster_data.csv\")\n",
    "OUTPUT_PATH = os.path.join(BASE_DIR, \"data\", \"processed\", \"cleaned_disaster_data.csv\")\n",
    "\n",
    "# Load dataset\n",
    "print(f\"Loading dataset from: {DATA_PATH}\")\n",
    "df = pd.read_csv(DATA_PATH)\n",
    "\n",
    "# -------------------------------\n",
    "# 1. Create binary disaster columns\n",
    "# -------------------------------\n",
    "\n",
    "# Flood -> based on \"disaster_type\" column\n",
    "df['is_flood'] = df['disaster_type'].apply(lambda x: 1 if str(x).lower() == \"flood\" else 0)\n",
    "\n",
    "# Landslide -> assuming column 'landslide' exists with \"Yes\"/\"No\"\n",
    "if 'landslide' in df.columns:\n",
    "    df['is_landslide'] = df['landslide'].apply(lambda x: 1 if str(x).lower() == \"yes\" else 0)\n",
    "else:\n",
    "    df['is_landslide'] = 0  # default if not present\n",
    "\n",
    "# Earthquake -> assuming column 'earthquake' exists with \"Yes\"/\"No\"\n",
    "if 'earthquake' in df.columns:\n",
    "    df['is_earthquake'] = df['earthquake'].apply(lambda x: 1 if str(x).lower() == \"yes\" else 0)\n",
    "else:\n",
    "    df['is_earthquake'] = 0\n",
    "\n",
    "# Cyclone -> no direct column, so infer from windspeed & pressure\n",
    "if 'windspeed' in df.columns and 'pressure' in df.columns:\n",
    "    df['is_cyclone'] = df.apply(\n",
    "        lambda row: 1 if (row['windspeed'] >= 120 and row['pressure'] < 990) else 0,\n",
    "        axis=1\n",
    "    )\n",
    "else:\n",
    "    df['is_cyclone'] = 0\n",
    "\n",
    "# -------------------------------\n",
    "# 2. Clean and preprocess\n",
    "# -------------------------------\n",
    "\n",
    "# Drop duplicates\n",
    "df = df.drop_duplicates()\n",
    "\n",
    "# Fill missing numeric values with column mean\n",
    "for col in df.select_dtypes(include=['float64', 'int64']).columns:\n",
    "    df[col] = df[col].fillna(df[col].mean())\n",
    "\n",
    "# Fill missing categorical values with mode\n",
    "for col in df.select_dtypes(include=['object']).columns:\n",
    "    df[col] = df[col].fillna(df[col].mode()[0])\n",
    "\n",
    "# -------------------------------\n",
    "# 3. Save cleaned dataset\n",
    "# -------------------------------\n",
    "df.to_csv(OUTPUT_PATH, index=False)\n",
    "print(f\"Cleaned dataset saved to: {OUTPUT_PATH}\")\n",
    "\n",
    "print(\"Preview of cleaned dataset:\")\n",
    "print(df.head())\n",
    "\n"
   ]
  },
  {
   "cell_type": "code",
   "execution_count": null,
   "id": "1ff63f21-85a8-457e-a93c-6ebe6823a0fd",
   "metadata": {},
   "outputs": [],
   "source": []
  }
 ],
 "metadata": {
  "kernelspec": {
   "display_name": "Python 3 (ipykernel)",
   "language": "python",
   "name": "python3"
  },
  "language_info": {
   "codemirror_mode": {
    "name": "ipython",
    "version": 3
   },
   "file_extension": ".py",
   "mimetype": "text/x-python",
   "name": "python",
   "nbconvert_exporter": "python",
   "pygments_lexer": "ipython3",
   "version": "3.12.7"
  }
 },
 "nbformat": 4,
 "nbformat_minor": 5
}
