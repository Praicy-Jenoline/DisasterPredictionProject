{
 "cells": [
  {
   "cell_type": "code",
   "execution_count": null,
   "id": "d50a084e-2dc3-414d-aa3c-dd65663e7733",
   "metadata": {},
   "outputs": [],
   "source": [
    "# utils/preprocessing.py\n",
    "from sklearn.preprocessing import StandardScaler\n",
    "\n",
    "def scale_features(dataframe):\n",
    "    \"\"\"Scales the dataset features using Standard Scaler.\"\"\"\n",
    "    scaler = StandardScaler()\n",
    "    scaled = scaler.fit_transform(dataframe)\n",
    "    return scaled\n"
   ]
  }
 ],
 "metadata": {
  "kernelspec": {
   "display_name": "Python 3 (ipykernel)",
   "language": "python",
   "name": "python3"
  },
  "language_info": {
   "codemirror_mode": {
    "name": "ipython",
    "version": 3
   },
   "file_extension": ".py",
   "mimetype": "text/x-python",
   "name": "python",
   "nbconvert_exporter": "python",
   "pygments_lexer": "ipython3",
   "version": "3.12.7"
  }
 },
 "nbformat": 4,
 "nbformat_minor": 5
}
