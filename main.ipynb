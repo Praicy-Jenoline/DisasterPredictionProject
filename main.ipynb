{
 "cells": [
  {
   "cell_type": "code",
   "execution_count": null,
   "id": "89e484d9-0007-4d37-acda-80031864aa60",
   "metadata": {},
   "outputs": [],
   "source": [
    "# main.py\n",
    "from apis.realtime_fetcher import fetch_realtime_data\n",
    "from core.predict_model import predict_disaster\n",
    "from notifications.notifier import send_alert\n",
    "import time\n",
    "\n",
    "def main():\n",
    "    print(\"🌍 Real-Time Disaster Monitoring Started\")\n",
    "    print(\"Press Ctrl + C to stop.\\n\")\n",
    "\n",
    "    while True:\n",
    "        try:\n",
    "            # Step 1: Fetch real-time features from APIs\n",
    "            features = fetch_realtime_data()\n",
    "\n",
    "            if features.empty:\n",
    "                print(\"[⚠️] Received empty DataFrame from fetch_realtime_data. Skipping prediction.\")\n",
    "                time.sleep(3600)\n",
    "                continue\n",
    "\n",
    "\n",
    "            # Step 2: Predict using the ML model\n",
    "            prediction = predict_disaster(features)\n",
    "\n",
    "            # Step 3: Check result and notify if needed\n",
    "            if prediction != \"NoDisaster\":\n",
    "                message = f\"⚠️ ALERT: Possible {prediction.upper()} risk detected!\"\n",
    "                print(message)\n",
    "                send_alert(message)\n",
    "            else:\n",
    "                print(\"✅ No disaster detected.\\n\")\n",
    "\n",
    "        except Exception as e:\n",
    "            print(\"[❌] An error occurred during monitoring:\", str(e))\n",
    "\n",
    "        # Step 4: Wait before next check (e.g., 1 hour)\n",
    "        print(\"⏳ Waiting for next cycle...\\n\")\n",
    "        time.sleep(3600)  # You can change to 300 for 5 minutes, etc.\n",
    "\n",
    "if __name__ == \"__main__\":\n",
    "    main()\n"
   ]
  }
 ],
 "metadata": {
  "kernelspec": {
   "display_name": "Python 3 (ipykernel)",
   "language": "python",
   "name": "python3"
  },
  "language_info": {
   "codemirror_mode": {
    "name": "ipython",
    "version": 3
   },
   "file_extension": ".py",
   "mimetype": "text/x-python",
   "name": "python",
   "nbconvert_exporter": "python",
   "pygments_lexer": "ipython3",
   "version": "3.12.7"
  }
 },
 "nbformat": 4,
 "nbformat_minor": 5
}
