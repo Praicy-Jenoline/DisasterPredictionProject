{
 "cells": [
  {
   "cell_type": "code",
   "execution_count": null,
   "id": "b42f65ad-3b62-4f59-b716-f098d67f85e3",
   "metadata": {},
   "outputs": [],
   "source": [
    "# models/trained_model.py\n",
    "\n",
    "import pandas as pd\n",
    "import numpy as np\n",
    "from sklearn.model_selection import train_test_split\n",
    "from sklearn.preprocessing import StandardScaler\n",
    "from xgboost import XGBClassifier\n",
    "from sklearn.neural_network import MLPClassifier\n",
    "from sklearn.ensemble import VotingClassifier\n",
    "from sklearn.metrics import classification_report\n",
    "import joblib\n",
    "import os\n",
    "\n",
    "# Load the dataset\n",
    "data_path = os.path.join(\"data\", \"processed\", \"combined_disaster_data.csv\")\n",
    "data = pd.read_csv(data_path)\n",
    "\n",
    "# Drop rows with missing values (optional: you can use imputation instead)\n",
    "data.dropna(inplace=True)\n",
    "\n",
    "# Separate features and labels\n",
    "X = data.drop(\"label\", axis=1)\n",
    "y = data[\"label\"]\n",
    "\n",
    "# Standardize the features\n",
    "scaler = StandardScaler()\n",
    "X_scaled = scaler.fit_transform(X)\n",
    "\n",
    "# Train/Test split\n",
    "X_train, X_test, y_train, y_test = train_test_split(X_scaled, y, test_size=0.2, random_state=42)\n",
    "\n",
    "# Define base models\n",
    "xgb = XGBClassifier(use_label_encoder=False, eval_metric='mlogloss', random_state=42)\n",
    "mlp = MLPClassifier(hidden_layer_sizes=(64, 32), activation='relu', max_iter=500, random_state=42)\n",
    "\n",
    "# Combine into a voting classifier\n",
    "hybrid_model = VotingClassifier(estimators=[\n",
    "    ('xgb', xgb),\n",
    "    ('mlp', mlp)\n",
    "], voting='soft')\n",
    "\n",
    "# Train the model\n",
    "print(\"[INFO] Training hybrid model...\")\n",
    "hybrid_model.fit(X_train, y_train)\n",
    "\n",
    "# Evaluate\n",
    "print(\"[INFO] Classification Report:\\n\")\n",
    "y_pred = hybrid_model.predict(X_test)\n",
    "print(classification_report(y_test, y_pred))\n",
    "\n",
    "# Save the trained model and scaler\n",
    "os.makedirs(\"models\", exist_ok=True)\n",
    "joblib.dump(hybrid_model, \"models/disaster_model.pkl\")\n",
    "joblib.dump(scaler, \"models/scaler.pkl\")\n",
    "print(\"\\n[INFO] Model and scaler saved to 'models/' folder.\")\n"
   ]
  }
 ],
 "metadata": {
  "kernelspec": {
   "display_name": "Python 3 (ipykernel)",
   "language": "python",
   "name": "python3"
  },
  "language_info": {
   "codemirror_mode": {
    "name": "ipython",
    "version": 3
   },
   "file_extension": ".py",
   "mimetype": "text/x-python",
   "name": "python",
   "nbconvert_exporter": "python",
   "pygments_lexer": "ipython3",
   "version": "3.12.7"
  }
 },
 "nbformat": 4,
 "nbformat_minor": 5
}
